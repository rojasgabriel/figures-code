{
 "cells": [
  {
   "cell_type": "code",
   "execution_count": 1,
   "metadata": {},
   "outputs": [
    {
     "ename": "IndexError",
     "evalue": "list index out of range",
     "output_type": "error",
     "traceback": [
      "\u001b[1;31m---------------------------------------------------------------------------\u001b[0m",
      "\u001b[1;31mIndexError\u001b[0m                                Traceback (most recent call last)",
      "\u001b[1;32m<ipython-input-1-cc80a704d149>\u001b[0m in \u001b[0;36m<module>\u001b[1;34m\u001b[0m\n\u001b[0;32m     64\u001b[0m     \u001b[1;32mreturn\u001b[0m \u001b[0mtrialdata\u001b[0m\u001b[1;33m,\u001b[0m\u001b[0mcamtime\u001b[0m\u001b[1;33m,\u001b[0m\u001b[0mdiam\u001b[0m\u001b[1;33m\u001b[0m\u001b[1;33m\u001b[0m\u001b[0m\n\u001b[0;32m     65\u001b[0m \u001b[1;33m\u001b[0m\u001b[0m\n\u001b[1;32m---> 66\u001b[1;33m \u001b[1;33m[\u001b[0m\u001b[0mread_data_from_pupil_chaoqun\u001b[0m\u001b[1;33m(\u001b[0m\u001b[0mfolder\u001b[0m\u001b[1;33m)\u001b[0m \u001b[1;32mfor\u001b[0m \u001b[0mfolder\u001b[0m \u001b[1;32min\u001b[0m \u001b[0mfolders\u001b[0m\u001b[1;33m]\u001b[0m\u001b[1;33m;\u001b[0m\u001b[1;33m\u001b[0m\u001b[1;33m\u001b[0m\u001b[0m\n\u001b[0m\u001b[0;32m     67\u001b[0m \u001b[1;33m\u001b[0m\u001b[0m\n\u001b[0;32m     68\u001b[0m \u001b[1;31m# %matplotlib notebook\u001b[0m\u001b[1;33m\u001b[0m\u001b[1;33m\u001b[0m\u001b[1;33m\u001b[0m\u001b[0m\n",
      "\u001b[1;32m<ipython-input-1-cc80a704d149>\u001b[0m in \u001b[0;36m<listcomp>\u001b[1;34m(.0)\u001b[0m\n\u001b[0;32m     64\u001b[0m     \u001b[1;32mreturn\u001b[0m \u001b[0mtrialdata\u001b[0m\u001b[1;33m,\u001b[0m\u001b[0mcamtime\u001b[0m\u001b[1;33m,\u001b[0m\u001b[0mdiam\u001b[0m\u001b[1;33m\u001b[0m\u001b[1;33m\u001b[0m\u001b[0m\n\u001b[0;32m     65\u001b[0m \u001b[1;33m\u001b[0m\u001b[0m\n\u001b[1;32m---> 66\u001b[1;33m \u001b[1;33m[\u001b[0m\u001b[0mread_data_from_pupil_chaoqun\u001b[0m\u001b[1;33m(\u001b[0m\u001b[0mfolder\u001b[0m\u001b[1;33m)\u001b[0m \u001b[1;32mfor\u001b[0m \u001b[0mfolder\u001b[0m \u001b[1;32min\u001b[0m \u001b[0mfolders\u001b[0m\u001b[1;33m]\u001b[0m\u001b[1;33m;\u001b[0m\u001b[1;33m\u001b[0m\u001b[1;33m\u001b[0m\u001b[0m\n\u001b[0m\u001b[0;32m     67\u001b[0m \u001b[1;33m\u001b[0m\u001b[0m\n\u001b[0;32m     68\u001b[0m \u001b[1;31m# %matplotlib notebook\u001b[0m\u001b[1;33m\u001b[0m\u001b[1;33m\u001b[0m\u001b[1;33m\u001b[0m\u001b[0m\n",
      "\u001b[1;32m<ipython-input-1-cc80a704d149>\u001b[0m in \u001b[0;36mread_data_from_pupil_chaoqun\u001b[1;34m(folder)\u001b[0m\n\u001b[0;32m     12\u001b[0m     \u001b[1;32mwith\u001b[0m \u001b[0mh5\u001b[0m\u001b[1;33m.\u001b[0m\u001b[0mFile\u001b[0m\u001b[1;33m(\u001b[0m\u001b[0mglob\u001b[0m\u001b[1;33m(\u001b[0m\u001b[0mpjoin\u001b[0m\u001b[1;33m(\u001b[0m\u001b[0mfolder\u001b[0m\u001b[1;33m,\u001b[0m\u001b[1;34m'*.mptracker.h5'\u001b[0m\u001b[1;33m)\u001b[0m\u001b[1;33m)\u001b[0m\u001b[1;33m[\u001b[0m\u001b[1;36m0\u001b[0m\u001b[1;33m]\u001b[0m\u001b[1;33m,\u001b[0m\u001b[1;34m'r'\u001b[0m\u001b[1;33m)\u001b[0m \u001b[1;32mas\u001b[0m \u001b[0mpupildata\u001b[0m\u001b[1;33m:\u001b[0m\u001b[1;33m\u001b[0m\u001b[1;33m\u001b[0m\u001b[0m\n\u001b[0;32m     13\u001b[0m         \u001b[0mdiam\u001b[0m \u001b[1;33m=\u001b[0m \u001b[0mpupildata\u001b[0m\u001b[1;33m[\u001b[0m\u001b[1;34m'diameter'\u001b[0m\u001b[1;33m]\u001b[0m\u001b[1;33m[\u001b[0m\u001b[1;33m:\u001b[0m\u001b[1;33m]\u001b[0m\u001b[1;33m\u001b[0m\u001b[1;33m\u001b[0m\u001b[0m\n\u001b[1;32m---> 14\u001b[1;33m     \u001b[0mcamlog\u001b[0m\u001b[1;33m,\u001b[0m\u001b[0mcomm\u001b[0m \u001b[1;33m=\u001b[0m \u001b[0mparse_cam_log\u001b[0m\u001b[1;33m(\u001b[0m\u001b[0mglob\u001b[0m\u001b[1;33m(\u001b[0m\u001b[0mpjoin\u001b[0m\u001b[1;33m(\u001b[0m\u001b[0mfolder\u001b[0m\u001b[1;33m,\u001b[0m\u001b[1;34m'*.camlog'\u001b[0m\u001b[1;33m)\u001b[0m\u001b[1;33m)\u001b[0m\u001b[1;33m[\u001b[0m\u001b[1;36m0\u001b[0m\u001b[1;33m]\u001b[0m\u001b[1;33m)\u001b[0m\u001b[1;33m\u001b[0m\u001b[1;33m\u001b[0m\u001b[0m\n\u001b[0m\u001b[0;32m     15\u001b[0m     \u001b[0msync\u001b[0m \u001b[1;33m=\u001b[0m \u001b[0munpackbits\u001b[0m\u001b[1;33m(\u001b[0m\u001b[0mnp\u001b[0m\u001b[1;33m.\u001b[0m\u001b[0marray\u001b[0m\u001b[1;33m(\u001b[0m\u001b[0mcamlog\u001b[0m\u001b[1;33m[\u001b[0m\u001b[1;34m'var2'\u001b[0m\u001b[1;33m]\u001b[0m\u001b[1;33m)\u001b[0m\u001b[1;33m)\u001b[0m\u001b[1;33m[\u001b[0m\u001b[1;36m0\u001b[0m\u001b[1;33m]\u001b[0m\u001b[1;33m[\u001b[0m\u001b[1;36m2\u001b[0m\u001b[1;33m]\u001b[0m\u001b[1;33m\u001b[0m\u001b[1;33m\u001b[0m\u001b[0m\n\u001b[0;32m     16\u001b[0m     \u001b[0mtrialdata\u001b[0m \u001b[1;33m=\u001b[0m \u001b[0mpd\u001b[0m\u001b[1;33m.\u001b[0m\u001b[0mread_hdf\u001b[0m\u001b[1;33m(\u001b[0m\u001b[0mglob\u001b[0m\u001b[1;33m(\u001b[0m\u001b[0mpjoin\u001b[0m\u001b[1;33m(\u001b[0m\u001b[0mfolder\u001b[0m\u001b[1;33m,\u001b[0m\u001b[1;34m'*triallog.h5'\u001b[0m\u001b[1;33m)\u001b[0m\u001b[1;33m)\u001b[0m\u001b[1;33m[\u001b[0m\u001b[1;36m0\u001b[0m\u001b[1;33m]\u001b[0m\u001b[1;33m)\u001b[0m\u001b[1;33m\u001b[0m\u001b[1;33m\u001b[0m\u001b[0m\n",
      "\u001b[1;31mIndexError\u001b[0m: list index out of range"
     ]
    }
   ],
   "source": [
    "from labcams import parse_cam_log, unpackbits,pjoin  # pip install labcams if it doesn't work\n",
    "from glob import glob\n",
    "import numpy as np\n",
    "import h5py as h5\n",
    "import pandas as pd\n",
    "from scipy.interpolate import interp1d\n",
    "import os\n",
    "folders = [os.path.dirname(r) for r in glob('JC047/*/*/*.mptracker.h5')]\n",
    "\n",
    "def read_data_from_pupil_chaoqun(folder):\n",
    "\n",
    "    with h5.File(glob(pjoin(folder,'*.mptracker.h5'))[0],'r') as pupildata:\n",
    "        diam = pupildata['diameter'][:]\n",
    "    camlog,comm = parse_cam_log(glob(pjoin(folder,'*.camlog'))[0])\n",
    "    sync = unpackbits(np.array(camlog['var2']))[0][2]\n",
    "    trialdata = pd.read_hdf(glob(pjoin(folder,'*triallog.h5'))[0])\n",
    "\n",
    "    trial_onsets = np.array([r.task_start_time + r.task_states[2][-1] for i,r in trialdata.iterrows()])\n",
    "    # get the frametimes syncronized with the trial onset.\n",
    "    camtime = interp1d(sync[:len(trial_onsets)],trial_onsets+0.3, fill_value = 'extrapolate')(np.arange(len(diam)))\n",
    "\n",
    "\n",
    "    rewarded_side = np.array(trialdata.rewarded_side == 'left',dtype = int)\n",
    "    rewarded_side[rewarded_side==0] = 2\n",
    "\n",
    "    trial_start = np.array(trialdata.task_start_time)\n",
    "    stim_onset = np.array([r.task_start_time + r.task_states[2][-1] for i,r in trialdata.iterrows()])\n",
    "    stim_duration = np.array(trialdata.stim_duration)\n",
    "    response = np.array(trialdata.response)\n",
    "    response[response==-1] = 2\n",
    "    reward_time = np.array([r.task_start_time + r.task_states[4][-1]  if r.rewarded else np.nan for i,r in trialdata.iterrows()])\n",
    "#     reward_time = []\n",
    "#     for i,r in trialdata.iterrows():\n",
    "#         if r.rewarded:\n",
    "#             reward_time.append(r.task_start_time + r.task_states[5][-1])\n",
    "#         else:\n",
    "#             reward_time.append(np.nan)\n",
    "#     reward_time = np.array(reward_time)    \n",
    "    \n",
    "    rewarded = np.array(trialdata.rewarded)\n",
    "    response_time = np.array(trialdata.response_time)\n",
    "    timeout_time = np.array([r.task_start_time + r.task_states[5][-1]  if ((not r.rewarded) and (r.response != 0)) else np.nan for i,r in trialdata.iterrows()])\n",
    "    stim_intensity = np.array(trialdata.stim_intensity)\n",
    "    stim_rates = np.array(trialdata.stim_rates)\n",
    "    \n",
    "    trackerfile = glob(pjoin(folder,'*.mptracker.h5'))[0]\n",
    "    fname = trackerfile.replace('DropletsTask','analysis').replace('mptracker.h5','session_for_matlab.h5')\n",
    "    if not os.path.exists(os.path.dirname(fname)):\n",
    "        os.makedirs(os.path.dirname(fname))\n",
    "    with h5.File(fname,'w') as fid:\n",
    "        fid.create_dataset('trialstart_times',data = trial_start)\n",
    "        fid.create_dataset('frame_times',data = camtime)\n",
    "        fid.create_dataset('pupil_diameter',data = diam)\n",
    "        fid.create_dataset('stim_onsets',data = stim_onset)\n",
    "        fid.create_dataset('stim_duration',data = stim_duration)\n",
    "        fid.create_dataset('reward_times',data = reward_time)\n",
    "        fid.create_dataset('timeout_times',data = reward_time)\n",
    "        fid.create_dataset('choice',data = response)\n",
    "        fid.create_dataset('correct_side',data = rewarded_side)\n",
    "        fid.create_dataset('rewarded', data = rewarded)\n",
    "        fid.create_dataset('response_time', data = response_time)\n",
    "        fid.create_dataset('stim_intensity', data = stim_intensity)\n",
    "        #fid.create_dataset('stim_rates', data = stim_rates)\n",
    "    return trialdata,camtime,diam\n",
    "\n",
    "[read_data_from_pupil_chaoqun(folder) for folder in folders];\n",
    "    \n",
    "# %matplotlib notebook\n",
    "\n",
    "# import pylab as plt\n",
    "# plt.plot(np.array(camlog['var2']))\n",
    "# plt.vlines(sync,14,15,'k')\n",
    "\n"
   ]
  },
  {
   "cell_type": "code",
   "execution_count": 1,
   "metadata": {},
   "outputs": [
    {
     "name": "stdout",
     "output_type": "stream",
     "text": [
      "Object `trackerfile` not found.\n"
     ]
    }
   ],
   "source": [
    "trackerfile??"
   ]
  }
 ],
 "metadata": {
  "kernelspec": {
   "display_name": "Python 3",
   "language": "python",
   "name": "python3"
  },
  "language_info": {
   "codemirror_mode": {
    "name": "ipython",
    "version": 3
   },
   "file_extension": ".py",
   "mimetype": "text/x-python",
   "name": "python",
   "nbconvert_exporter": "python",
   "pygments_lexer": "ipython3",
   "version": "3.8.5"
  }
 },
 "nbformat": 4,
 "nbformat_minor": 4
}
